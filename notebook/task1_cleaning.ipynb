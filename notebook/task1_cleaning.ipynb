
{
 "cells": [
  {
   "cell_type": "markdown",
   "metadata": {},
   "source": ["# Task 1: Data Cleaning – Medical Appointment No Shows"]
  },
  {
   "cell_type": "code",
   "execution_count": null,
   "metadata": {},
   "outputs": [],
   "source": [
    "import pandas as pd\n",
    "df = pd.read_csv('../data/raw_dataset.csv')\n",
    "df.drop_duplicates(inplace=True)\n",
    "df.columns = df.columns.str.lower().str.replace('-', '_').str.replace(' ', '_')\n",
    "df['scheduledday'] = pd.to_datetime(df['scheduledday'])\n",
    "df['appointmentday'] = pd.to_datetime(df['appointmentday'])\n",
    "df['age'] = pd.to_numeric(df['age'], errors='coerce')\n",
    "df = df[(df['age'] >= 0) & (df['age'] <= 120)]\n",
    "df.to_csv('../data/cleaned_dataset.csv', index=False)"
   ]
  }
 ],
 "metadata": {
  "kernelspec": {
   "display_name": "Python 3",
   "language": "python",
   "name": "python3"
  },
  "language_info": {
   "name": "python",
   "version": "3.8"
  }
 },
 "nbformat": 4,
 "nbformat_minor": 2
}
